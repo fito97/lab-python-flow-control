{
 "cells": [
  {
   "cell_type": "markdown",
   "id": "d3bfc191-8885-42ee-b0a0-bbab867c6f9f",
   "metadata": {
    "tags": []
   },
   "source": [
    "# Lab | Flow Control"
   ]
  },
  {
   "cell_type": "markdown",
   "id": "3851fcd1-cf98-4653-9c89-e003b7ec9400",
   "metadata": {},
   "source": [
    "## Exercise: Managing Customer Orders Optimized\n",
    "\n",
    "In the last lab, you were starting an online store that sells various products. To ensure smooth operations, you developed a program that manages customer orders and inventory.\n",
    "\n",
    "You did so without using flow control. Let's go a step further and improve this code.\n",
    "\n",
    "Follow the steps below to complete the exercise:\n",
    "\n",
    "1. Look at your code from the lab data structures, and improve repeated code with loops.\n",
    "\n",
    "2. Instead of asking the user to input the name of three products that a customer wants to order, do the following:\n",
    "    \n",
    "    a. Prompt the user to enter the name of a product that a customer wants to order.\n",
    "    \n",
    "    b. Add the product name to the \"customer_orders\" set.\n",
    "    \n",
    "    c. Ask the user if they want to add another product (yes/no).\n",
    "    \n",
    "    d. Continue the loop until the user does not want to add another product.\n",
    "\n",
    "3. Instead of updating the inventory by subtracting 1 from the quantity of each product, only do it for  the products that were ordered (those in \"customer_orders\")."
   ]
  },
  {
   "cell_type": "code",
   "execution_count": 1,
   "id": "2d3d5cbb",
   "metadata": {},
   "outputs": [],
   "source": [
    "products = [\"t-shirt\", \"mug\", \"hat\", \"book\", \"keychain\"]"
   ]
  },
  {
   "cell_type": "code",
   "execution_count": 8,
   "id": "82d5d4ad",
   "metadata": {},
   "outputs": [
    {
     "data": {
      "text/plain": [
       "set"
      ]
     },
     "execution_count": 8,
     "metadata": {},
     "output_type": "execute_result"
    }
   ],
   "source": [
    "customer_orders = set()\n",
    "type(customer_orders)"
   ]
  },
  {
   "cell_type": "markdown",
   "id": "60d698e2",
   "metadata": {},
   "source": [
    "### 2. Instead of asking the user to input the name of three products that a customer wants to order, do the following:\n",
    "    \n",
    "    a. Prompt the user to enter the name of a product that a customer wants to order.\n",
    "    \n",
    "    b. Add the product name to the \"customer_orders\" set.\n",
    "    \n",
    "    c. Ask the user if they want to add another product (yes/no).\n",
    "    \n",
    "    d. Continue the loop until the user does not want to add another product."
   ]
  },
  {
   "cell_type": "code",
   "execution_count": 10,
   "id": "12ba7428",
   "metadata": {},
   "outputs": [
    {
     "name": "stdout",
     "output_type": "stream",
     "text": [
      "Thank you for your purchase\n"
     ]
    }
   ],
   "source": [
    "orders = input('Order a prodcut:')\n",
    "if orders not in products:\n",
    "    orders = input('Product not available, please order another product')\n",
    "else:\n",
    "    customer_orders.add(orders)\n",
    "\n",
    "questions = input('Would you like to add more porducts(yes/no)')\n",
    "while questions == 'yes':\n",
    "        orders = input('please, add your new product:')\n",
    "        if orders not in products:\n",
    "            orders = input('Product not available, please order another product')\n",
    "        else:\n",
    "             customer_orders.add(orders)\n",
    "\n",
    "        questions = input('Would you like to add  any more porducts(yes/no)')\n",
    "if questions == 'no':\n",
    "     print('Thank you for your purchase')\n",
    "\n",
    "\n",
    "    "
   ]
  },
  {
   "cell_type": "code",
   "execution_count": 11,
   "id": "95a822a5",
   "metadata": {},
   "outputs": [
    {
     "data": {
      "text/plain": [
       "{'hat'}"
      ]
     },
     "execution_count": 11,
     "metadata": {},
     "output_type": "execute_result"
    }
   ],
   "source": [
    "customer_orders"
   ]
  },
  {
   "cell_type": "markdown",
   "id": "04f33618",
   "metadata": {},
   "source": [
    "3. Instead of updating the inventory by subtracting 1 from the quantity of each product, only do it for  the products that were ordered (those in \"customer_orders\")."
   ]
  },
  {
   "cell_type": "code",
   "execution_count": 12,
   "id": "a776bf1c",
   "metadata": {},
   "outputs": [],
   "source": [
    "inventory = {}\n",
    "type(inventory)\n",
    "for product in products:\n",
    "    inventory[product] = int(input(f'Enter {product} quantity:'))"
   ]
  },
  {
   "cell_type": "code",
   "execution_count": 23,
   "id": "4ec0f639",
   "metadata": {},
   "outputs": [],
   "source": [
    "for (k,v) in inventory.items():\n",
    "    if k in customer_orders:\n",
    "        inventory[k]=v-1\n",
    "\n",
    "# Acabar de añadir en el caso de que el inventario sea 0, qué puedes hacer."
   ]
  }
 ],
 "metadata": {
  "kernelspec": {
   "display_name": "Python 3",
   "language": "python",
   "name": "python3"
  },
  "language_info": {
   "codemirror_mode": {
    "name": "ipython",
    "version": 3
   },
   "file_extension": ".py",
   "mimetype": "text/x-python",
   "name": "python",
   "nbconvert_exporter": "python",
   "pygments_lexer": "ipython3",
   "version": "3.9.6"
  }
 },
 "nbformat": 4,
 "nbformat_minor": 5
}
